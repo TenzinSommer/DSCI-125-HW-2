{
 "cells": [
  {
   "cell_type": "code",
   "execution_count": null,
   "metadata": {},
   "outputs": [],
   "source": [
    "import pandas as pd\n",
    "import praw\n",
    "import re\n",
    "import requests\n",
    "import time \n",
    "import json\n",
    "import numpy as np\n",
    "\n",
    "CLIENT_ID = \"Yew9qy_Emf2ltiSuOqjiEQ\"\n",
    "CLIENT_SECRET = \"wjbSF31tGZSE0J5qbzr-bIXeLnKXew\"\n",
    "USER_AGENT = \"sommer-clarku\"\n",
    "\n",
    "# CLIENT_ID = \"OKi0keVw1m4blsktPESl-A\"\n",
    "# CLIENT_SECRET = \"4WQMoXYrGgMtPH8kNiepiMS7CD8y8w\"\n",
    "# USER_AGENT = \"IllDevelopment7829\"\n",
    "\n",
    "reddit = praw.Reddit(\n",
    "    client_id = CLIENT_ID,\n",
    "    client_secret = CLIENT_SECRET,\n",
    "    user_agent = USER_AGENT \n",
    ")"
   ]
  },
  {
   "cell_type": "code",
   "execution_count": null,
   "metadata": {},
   "outputs": [],
   "source": [
    "subreddits = ['redsox','nyyankees','orioles','torontobluejays','tampabayrays']\n",
    "\n",
    "urls = []\n",
    "\n",
    "for sub in subreddits:\n",
    "\tfor thread in reddit.subreddit(sub).top(time_filter=\"all\", limit=150):\n",
    "\t\turl = thread.url\n",
    "\t\tif re.search('www.reddit.com/r/', url):\n",
    "\t\t\turls.append(url)\n",
    "\n",
    "\theaders = {\n",
    "\t\t# Tenzin\n",
    "\t\t'User-Agent': 'Mozilla/5.0 (X11; Linux x86_64; rv:136.0) Gecko/20100101 Firefox/136.0' \n",
    "\n",
    "\t\t# Elliot\n",
    "\t\t# \"User-Agent\": \"Mozilla/5.0 (Macintosh; Intel Mac OS X 10_15_7) AppleWebKit/605.1.15 (KHTML, like Gecko) Version/18.3 Safari/605.1.15\"\n",
    "\t}\n",
    "\n",
    "\tcounter = 1\n",
    "\tfilename = sub + '.json'\n",
    "\t\n",
    "\twith open(filename, 'w+') as fp:\n",
    "\t\tfor url in urls:\n",
    "\t\t\t# print(time.time())\n",
    "\t\t\ttry:\n",
    "\t\t\t\tresponse = requests.get(url + \".json\", timeout=10, headers = headers)\n",
    "\t\t\t\tjson_data = response.json()\n",
    "\t\t\t\tif (len(json_data) >= 2):\n",
    "\t\t\t\t\tjstr = json.dumps(json_data)\n",
    "\t\t\t\t\tfp.write(jstr + '\\n')\n",
    "\t\t\t\ttime.sleep(np.random.uniform(1, 5))\n",
    "\t\t\t\tprint(f\"{counter}: Successfully fetching {url}\")\n",
    "\t\t\t\t\n",
    "\t\t\texcept Exception as e:\n",
    "\t\t\t\tprint(f\"{counter}: Error fetching {url}\")\n",
    "\t\t\t\tprint(e)\n",
    "\n",
    "\t\t\tcounter += 1"
   ]
  },
  {
   "cell_type": "code",
   "execution_count": null,
   "metadata": {},
   "outputs": [],
   "source": [
    "# r/orioles for baltimore orioles\n",
    "# r/nyyankees for yankees\n",
    "# r/redsox for red sox\n",
    "# r/tampabayrays "
   ]
  },
  {
   "cell_type": "code",
   "execution_count": null,
   "metadata": {},
   "outputs": [
    {
     "ename": "",
     "evalue": "",
     "output_type": "error",
     "traceback": [
      "\u001b[1;31mRunning cells with 'base (Python 3.12.9)' requires the ipykernel package.\n",
      "\u001b[1;31m<a href='command:jupyter.createPythonEnvAndSelectController'>Create a Python Environment</a> with the required packages."
     ]
    }
   ],
   "source": [
    "df = pd.read_csv('games.csv')\n",
    "\n",
    "# Fix date format\n",
    "df['Date'] = df['Date'].apply(lambda x: str.split(x,'T')[0])\n",
    "df['Date']\n",
    "\n",
    "# Remove games with no AL East teams\n",
    "teamIDs = ['BOS','TOR','TB','NYY','BAL']\n",
    "df = df.loc[(df['home'].apply(lambda x: x in teamIDs) | \\\n",
    "             df['away'].apply(lambda x: x in teamIDs))]\n",
    "\n",
    "# Trim unnecessary columns\n",
    "df = df.drop(columns=df.columns[24:], axis=1)\n",
    "df = df.drop(columns=['Walks Issued - Away', \n",
    "\t\t\t\t\t  'Walks Issued - Home', \n",
    "\t\t\t\t\t  'Stolen Bases - Away', \n",
    "\t\t\t\t\t  'Stolen Bases - Home', \n",
    "\t\t\t\t\t  'Strikeouts Thrown - Away', \n",
    "\t\t\t\t\t  'Strikeouts Thrown - Home',\n",
    "\t\t\t\t\t  'Total Bases - Away', \n",
    "\t\t\t\t\t  'Total Bases - Home',\n",
    "\t\t\t\t\t  'Stadium',\n",
    "\t\t\t\t\t  'Location'])\n",
    "df\n",
    "\n"
   ]
  }
 ],
 "metadata": {
  "kernelspec": {
   "display_name": "base",
   "language": "python",
   "name": "python3"
  },
  "language_info": {
   "codemirror_mode": {
    "name": "ipython",
    "version": 3
   },
   "file_extension": ".py",
   "mimetype": "text/x-python",
   "name": "python",
   "nbconvert_exporter": "python",
   "pygments_lexer": "ipython3",
   "version": "3.12.9"
  }
 },
 "nbformat": 4,
 "nbformat_minor": 2
}
